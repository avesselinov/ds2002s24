{
  "nbformat": 4,
  "nbformat_minor": 0,
  "metadata": {
    "colab": {
      "provenance": [],
      "authorship_tag": "ABX9TyN0eKR+4bdOCKCLdgi1qIZ8",
      "include_colab_link": true
    },
    "kernelspec": {
      "name": "python3",
      "display_name": "Python 3"
    },
    "language_info": {
      "name": "python"
    }
  },
  "cells": [
    {
      "cell_type": "markdown",
      "metadata": {
        "id": "view-in-github",
        "colab_type": "text"
      },
      "source": [
        "<a href=\"https://colab.research.google.com/github/avesselinov/ds2002s24/blob/main/mongo_lab.ipynb\" target=\"_parent\"><img src=\"https://colab.research.google.com/assets/colab-badge.svg\" alt=\"Open In Colab\"/></a>"
      ]
    },
    {
      "cell_type": "code",
      "execution_count": 10,
      "metadata": {
        "colab": {
          "base_uri": "https://localhost:8080/"
        },
        "id": "VXw89Q_Yy2US",
        "outputId": "a003f56b-bbb9-4d6e-8ce5-cfdb888fea8c"
      },
      "outputs": [
        {
          "output_type": "stream",
          "name": "stdout",
          "text": [
            "Requirement already satisfied: pymongo[srv] in /usr/local/lib/python3.10/dist-packages (4.6.2)\n",
            "Requirement already satisfied: dnspython<3.0.0,>=1.16.0 in /usr/local/lib/python3.10/dist-packages (from pymongo[srv]) (2.6.1)\n",
            "Document ID:  65ff7d155b203ce97ed9f836\n",
            "[ObjectId('65ff7d155b203ce97ed9f837'), ObjectId('65ff7d155b203ce97ed9f838')]\n",
            "{'ID': 'zbf8uj',\n",
            " '_id': ObjectId('65ff79e85b203ce97ed9f818'),\n",
            " 'first name': 'Lexi',\n",
            " 'last name': 'Vesselinov',\n",
            " 'major': 'Biochemistry',\n",
            " 'year': '2'}\n",
            "{'ID': 'zbf8uj',\n",
            " '_id': ObjectId('65ff79e85b203ce97ed9f818'),\n",
            " 'first name': 'Lexi',\n",
            " 'last name': 'Vesselinov',\n",
            " 'major': 'Biochemistry',\n",
            " 'year': '2'}\n"
          ]
        },
        {
          "output_type": "execute_result",
          "data": {
            "text/plain": [
              "DeleteResult({'n': 13, 'electionId': ObjectId('7fffffff00000000000001a1'), 'opTime': {'ts': Timestamp(1711242517, 42), 't': 417}, 'ok': 1.0, '$clusterTime': {'clusterTime': Timestamp(1711242517, 44), 'signature': {'hash': b\"\\x9dm\\x11\\x175\\xcd\\xa5\\xa3[WR'<\\x1d\\xdb\\xcb\\xfd\\xcd\\x993\", 'keyId': 7302839125109899266}}, 'operationTime': Timestamp(1711242517, 42)}, acknowledged=True)"
            ]
          },
          "metadata": {},
          "execution_count": 10
        }
      ],
      "source": [
        "%pip install pymongo[srv]\n",
        "from pymongo import MongoClient\n",
        "import os\n",
        "import datetime\n",
        "import pymongo\n",
        "import pprint\n",
        "import pandas as pd\n",
        "\n",
        "host_name = \"localhost\"\n",
        "port = \"27017\"\n",
        "\n",
        "atlas_cluster_name = \"sandbox.zibbf\"\n",
        "atlas_default_dbname = \"local\"\n",
        "atlas_user_name = \"jtupitza\"\n",
        "atlas_password = \"Passw0rd1234\"\n",
        "\n",
        "conn_str = {\n",
        "    \"local\" : f\"mongodb://{host_name}:{port}/\",\n",
        "    \"atlas\" : f\"mongodb+srv://{atlas_user_name}:{atlas_password}@{atlas_cluster_name}.mongodb.net/{atlas_default_dbname}\"\n",
        "}\n",
        "client = pymongo.MongoClient(conn_str[\"atlas\"])\n",
        "\n",
        "# creating a database\n",
        "db_name = \"lexivesselinov_class\"\n",
        "db = client[db_name]\n",
        "client.list_database_names()\n",
        "db.list_collection_names()\n",
        "\n",
        "# one doc insert\n",
        "student = {\"first name\": \"Lexi\",\n",
        "        \"last name\": \"Vesselinov\",\n",
        "        \"ID\": \"zbf8uj\",\n",
        "        \"year\": \"2\",\n",
        "        \"major\": \"Biochemistry\"\n",
        "             }\n",
        "students = db.students\n",
        "student_id = students.insert_one(student).inserted_id\n",
        "print(\"Document ID: \", student_id)\n",
        "\n",
        "# multiple docs insert\n",
        "new_students = [{\"first name\": \"Sam\",\n",
        "        \"last name\": \"Grealish\",\n",
        "        \"ID\": \"ypz2mm\",\n",
        "        \"year\": \"2\",\n",
        "        \"major\": \"Biochemistry\"\n",
        "         },\n",
        "         {\"first name\": \"Ellah\",\n",
        "        \"last name\": \"Thomas\",\n",
        "        \"ID\": \"uyn4rh\",\n",
        "        \"year\": \"2\",\n",
        "        \"major\": \"Statistics\"\n",
        "         }]\n",
        "result = students.insert_many(new_students)\n",
        "pprint.pprint(result.inserted_ids)\n",
        "\n",
        "#query\n",
        "#all documents\n",
        "pprint.pprint(students.find_one({}))\n",
        "#specific attribute\n",
        "pprint.pprint(students.find_one( {\"major\" : \"Biochemistry\"} ))\n",
        "\n",
        "#update\n",
        "students.update_one({\"first name\": \"Ellah\"}, {'$set': {\"major\": \"Public Health\"}})\n",
        "\n",
        "students.update_many({\"year\": \"2\"}, {'$set': {\"year\": \"second\"}})\n",
        "\n",
        "# delete\n",
        "students.delete_one({'first name': 'Ellah'})\n",
        "\n",
        "students.delete_many({'major': \"Biochemistry\"})\n",
        "\n"
      ]
    }
  ]
}
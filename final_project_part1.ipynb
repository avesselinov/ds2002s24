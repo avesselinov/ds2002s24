{
  "cells": [
    {
      "cell_type": "markdown",
      "metadata": {
        "id": "view-in-github",
        "colab_type": "text"
      },
      "source": [
        "<a href=\"https://colab.research.google.com/github/avesselinov/ds2002s24/blob/main/final_project_part1.ipynb\" target=\"_parent\"><img src=\"https://colab.research.google.com/assets/colab-badge.svg\" alt=\"Open In Colab\"/></a>"
      ]
    },
    {
      "cell_type": "code",
      "execution_count": null,
      "metadata": {
        "id": "sve3vMRdjd8T"
      },
      "outputs": [],
      "source": [
        "\n",
        "# Importing necessary libraries\n",
        "%pip install pymongo[srv]\n",
        "from pymongo import MongoClient\n",
        "import os\n",
        "import datetime\n",
        "import pprint\n",
        "import requests\n",
        "import pymongo\n",
        "import time\n",
        "from datetime import datetime, timedelta\n",
        "import pandas as pd\n",
        "\n",
        "##PART 1: DATA INGESTION AND ANALYSIS\n",
        "\n",
        "# MongoDB connection details\n",
        "atlas_cluster_name = \"sandbox.zibbf\"\n",
        "atlas_default_dbname = \"local\"\n",
        "atlas_user_name = \"jtupitza\"\n",
        "atlas_password = \"Passw0rd1234\"\n",
        "\n",
        "# Connect to MongoDB\n",
        "conn_str = f\"mongodb+srv://{atlas_user_name}:{atlas_password}@{atlas_cluster_name}.mongodb.net/{atlas_default_dbname}\"\n",
        "client = pymongo.MongoClient(conn_str)\n",
        "db = client['nfl_data']  # Choose your database name\n",
        "\n",
        "# API URL\n",
        "api_url = \"https://4feaquhyai.execute-api.us-east-1.amazonaws.com/api/pi\"\n",
        "\n",
        "# Function to fetch data from API and store in MongoDB\n",
        "def fetch_and_store_data():\n",
        "    try:\n",
        "        response = requests.get(api_url)\n",
        "        data = response.json()\n",
        "        # Add timestamp to data\n",
        "        data['timestamp'] = datetime.now()\n",
        "        # Insert data into MongoDB\n",
        "        collection = db['nfl_data']  # Choose your collection name\n",
        "        collection.insert_one(data)\n",
        "        print(\"Data inserted into MongoDB at\", datetime.now())\n",
        "    except Exception as e:\n",
        "        print(\"Error fetching or storing data:\", e)\n",
        "\n",
        "# Main function to run the process for one hour\n",
        "def main():\n",
        "    # Set start time to the next minute\n",
        "    start_time = datetime.now() + timedelta(minutes=1)\n",
        "    start_time = start_time.replace(second=0, microsecond=0)\n",
        "\n",
        "    # Run for 60 minutes\n",
        "    end_time = start_time + timedelta(minutes=60)\n",
        "\n",
        "    while datetime.now() < end_time:\n",
        "        fetch_and_store_data()\n",
        "        time.sleep(60)  # Wait for 60 seconds until next iteration\n",
        "\n",
        "    # Perform analysis after running for 1 hour\n",
        "    analyze_data()\n",
        "\n",
        "if __name__ == \"__main__\":\n",
        "    main()\n",
        "\n",
        "\n",
        "\n",
        "\n",
        "\n",
        "\n",
        "\n",
        "\n",
        "\n",
        "\n",
        "\n",
        "\n",
        "\n",
        "\n",
        "\n",
        "\n",
        "\n",
        "\n",
        "\n"
      ]
    },
    {
      "cell_type": "code",
      "source": [],
      "metadata": {
        "id": "HTbxkMg40zJp"
      },
      "execution_count": null,
      "outputs": []
    }
  ],
  "metadata": {
    "colab": {
      "provenance": [],
      "authorship_tag": "ABX9TyPYmc+R2b0Fe8XgDvwUxalE",
      "include_colab_link": true
    },
    "kernelspec": {
      "display_name": "Python 3",
      "name": "python3"
    },
    "language_info": {
      "name": "python"
    }
  },
  "nbformat": 4,
  "nbformat_minor": 0
}